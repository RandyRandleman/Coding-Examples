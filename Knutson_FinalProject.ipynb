{
 "cells": [
  {
   "cell_type": "code",
   "execution_count": 105,
   "outputs": [],
   "source": [
    "import os\n",
    "import re\n",
    "import pandas as pd\n",
    "from nltk.sentiment.vader import SentimentIntensityAnalyzer"
   ],
   "metadata": {
    "collapsed": false,
    "pycharm": {
     "name": "#%%\n"
    }
   }
  },
  {
   "cell_type": "code",
   "execution_count": 3,
   "outputs": [],
   "source": [
    "sentiment = SentimentIntensityAnalyzer()"
   ],
   "metadata": {
    "collapsed": false,
    "pycharm": {
     "name": "#%%\n"
    }
   }
  },
  {
   "cell_type": "markdown",
   "source": [
    "## Phase 1"
   ],
   "metadata": {
    "collapsed": false,
    "pycharm": {
     "name": "#%% md\n"
    }
   }
  },
  {
   "cell_type": "code",
   "execution_count": 136,
   "outputs": [],
   "source": [
    "path_to_test = '/Users/anthonyknutson/Desktop/IT-797A/FINALPROJECT/test_data.csv'"
   ],
   "metadata": {
    "collapsed": false,
    "pycharm": {
     "name": "#%%\n"
    }
   }
  },
  {
   "cell_type": "code",
   "execution_count": 88,
   "outputs": [],
   "source": [
    "test_data = pd.read_csv(path_to_test)"
   ],
   "metadata": {
    "collapsed": false,
    "pycharm": {
     "name": "#%%\n"
    }
   }
  },
  {
   "cell_type": "code",
   "execution_count": 89,
   "outputs": [
    {
     "data": {
      "text/plain": "  Confirmed Score                                             Phrase\n0             pos  for real, the best thing about the movies is g...\n1             neg      I hate that I can never find a parking spot! \n2             neg  for real, I hate that the movies always have p...\n3             pos       I love that I can ride my bike in the summer\n4             neg  Why do we always end up fighting over the remo...",
      "text/html": "<div>\n<style scoped>\n    .dataframe tbody tr th:only-of-type {\n        vertical-align: middle;\n    }\n\n    .dataframe tbody tr th {\n        vertical-align: top;\n    }\n\n    .dataframe thead th {\n        text-align: right;\n    }\n</style>\n<table border=\"1\" class=\"dataframe\">\n  <thead>\n    <tr style=\"text-align: right;\">\n      <th></th>\n      <th>Confirmed Score</th>\n      <th>Phrase</th>\n    </tr>\n  </thead>\n  <tbody>\n    <tr>\n      <th>0</th>\n      <td>pos</td>\n      <td>for real, the best thing about the movies is g...</td>\n    </tr>\n    <tr>\n      <th>1</th>\n      <td>neg</td>\n      <td>I hate that I can never find a parking spot!</td>\n    </tr>\n    <tr>\n      <th>2</th>\n      <td>neg</td>\n      <td>for real, I hate that the movies always have p...</td>\n    </tr>\n    <tr>\n      <th>3</th>\n      <td>pos</td>\n      <td>I love that I can ride my bike in the summer</td>\n    </tr>\n    <tr>\n      <th>4</th>\n      <td>neg</td>\n      <td>Why do we always end up fighting over the remo...</td>\n    </tr>\n  </tbody>\n</table>\n</div>"
     },
     "execution_count": 89,
     "metadata": {},
     "output_type": "execute_result"
    }
   ],
   "source": [
    "test_data.head()"
   ],
   "metadata": {
    "collapsed": false,
    "pycharm": {
     "name": "#%%\n"
    }
   }
  },
  {
   "cell_type": "code",
   "execution_count": 90,
   "outputs": [],
   "source": [
    "test_data['polarity_score'] = test_data['Phrase'].apply(lambda Phrase: sentiment.polarity_scores(Phrase))"
   ],
   "metadata": {
    "collapsed": false,
    "pycharm": {
     "name": "#%%\n"
    }
   }
  },
  {
   "cell_type": "code",
   "execution_count": 91,
   "outputs": [],
   "source": [
    "test_data['compound'] = test_data['polarity_score'].apply(lambda d:d['compound'])"
   ],
   "metadata": {
    "collapsed": false,
    "pycharm": {
     "name": "#%%\n"
    }
   }
  },
  {
   "cell_type": "code",
   "execution_count": 92,
   "outputs": [],
   "source": [
    "test_data['comp_score'] = test_data['compound'].apply(lambda score: 'neu' if score==0 else('pos' if score >0 else 'neg'))"
   ],
   "metadata": {
    "collapsed": false,
    "pycharm": {
     "name": "#%%\n"
    }
   }
  },
  {
   "cell_type": "code",
   "execution_count": 93,
   "outputs": [
    {
     "data": {
      "text/plain": "  Confirmed Score                                             Phrase  \\\n0             pos  for real, the best thing about the movies is g...   \n1             neg      I hate that I can never find a parking spot!    \n2             neg  for real, I hate that the movies always have p...   \n3             pos       I love that I can ride my bike in the summer   \n4             neg  Why do we always end up fighting over the remo...   \n5             neu  computers are going to save the human race one...   \n6             neu  I wonder if cats and dogs will ever cohesively...   \n\n                                      polarity_score  compound comp_score  \n0  {'neg': 0.0, 'neu': 0.728, 'pos': 0.272, 'comp...    0.6696        pos  \n1  {'neg': 0.4, 'neu': 0.6, 'pos': 0.0, 'compound...   -0.6114        neg  \n2  {'neg': 0.27, 'neu': 0.73, 'pos': 0.0, 'compou...   -0.5719        neg  \n3  {'neg': 0.0, 'neu': 0.656, 'pos': 0.344, 'comp...    0.6369        pos  \n4  {'neg': 0.217, 'neu': 0.783, 'pos': 0.0, 'comp...   -0.3612        neg  \n5  {'neg': 0.0, 'neu': 0.738, 'pos': 0.262, 'comp...    0.4939        pos  \n6  {'neg': 0.0, 'neu': 1.0, 'pos': 0.0, 'compound...    0.0000        neu  ",
      "text/html": "<div>\n<style scoped>\n    .dataframe tbody tr th:only-of-type {\n        vertical-align: middle;\n    }\n\n    .dataframe tbody tr th {\n        vertical-align: top;\n    }\n\n    .dataframe thead th {\n        text-align: right;\n    }\n</style>\n<table border=\"1\" class=\"dataframe\">\n  <thead>\n    <tr style=\"text-align: right;\">\n      <th></th>\n      <th>Confirmed Score</th>\n      <th>Phrase</th>\n      <th>polarity_score</th>\n      <th>compound</th>\n      <th>comp_score</th>\n    </tr>\n  </thead>\n  <tbody>\n    <tr>\n      <th>0</th>\n      <td>pos</td>\n      <td>for real, the best thing about the movies is g...</td>\n      <td>{'neg': 0.0, 'neu': 0.728, 'pos': 0.272, 'comp...</td>\n      <td>0.6696</td>\n      <td>pos</td>\n    </tr>\n    <tr>\n      <th>1</th>\n      <td>neg</td>\n      <td>I hate that I can never find a parking spot!</td>\n      <td>{'neg': 0.4, 'neu': 0.6, 'pos': 0.0, 'compound...</td>\n      <td>-0.6114</td>\n      <td>neg</td>\n    </tr>\n    <tr>\n      <th>2</th>\n      <td>neg</td>\n      <td>for real, I hate that the movies always have p...</td>\n      <td>{'neg': 0.27, 'neu': 0.73, 'pos': 0.0, 'compou...</td>\n      <td>-0.5719</td>\n      <td>neg</td>\n    </tr>\n    <tr>\n      <th>3</th>\n      <td>pos</td>\n      <td>I love that I can ride my bike in the summer</td>\n      <td>{'neg': 0.0, 'neu': 0.656, 'pos': 0.344, 'comp...</td>\n      <td>0.6369</td>\n      <td>pos</td>\n    </tr>\n    <tr>\n      <th>4</th>\n      <td>neg</td>\n      <td>Why do we always end up fighting over the remo...</td>\n      <td>{'neg': 0.217, 'neu': 0.783, 'pos': 0.0, 'comp...</td>\n      <td>-0.3612</td>\n      <td>neg</td>\n    </tr>\n    <tr>\n      <th>5</th>\n      <td>neu</td>\n      <td>computers are going to save the human race one...</td>\n      <td>{'neg': 0.0, 'neu': 0.738, 'pos': 0.262, 'comp...</td>\n      <td>0.4939</td>\n      <td>pos</td>\n    </tr>\n    <tr>\n      <th>6</th>\n      <td>neu</td>\n      <td>I wonder if cats and dogs will ever cohesively...</td>\n      <td>{'neg': 0.0, 'neu': 1.0, 'pos': 0.0, 'compound...</td>\n      <td>0.0000</td>\n      <td>neu</td>\n    </tr>\n  </tbody>\n</table>\n</div>"
     },
     "execution_count": 93,
     "metadata": {},
     "output_type": "execute_result"
    }
   ],
   "source": [
    "test_data"
   ],
   "metadata": {
    "collapsed": false,
    "pycharm": {
     "name": "#%%\n"
    }
   }
  },
  {
   "cell_type": "markdown",
   "source": [
    "#### We had 1 out of 7 in the small test data that was incorrectly tagged by VADER Sentinment Analysis"
   ],
   "metadata": {
    "collapsed": false,
    "pycharm": {
     "name": "#%% md\n"
    }
   }
  },
  {
   "cell_type": "code",
   "execution_count": 94,
   "outputs": [],
   "source": [
    "from sklearn.metrics import accuracy_score, classification_report"
   ],
   "metadata": {
    "collapsed": false,
    "pycharm": {
     "name": "#%%\n"
    }
   }
  },
  {
   "cell_type": "code",
   "execution_count": 95,
   "outputs": [
    {
     "data": {
      "text/plain": "0.8571428571428571"
     },
     "execution_count": 95,
     "metadata": {},
     "output_type": "execute_result"
    }
   ],
   "source": [
    "accuracy_score(test_data['Confirmed Score'], test_data['comp_score'])"
   ],
   "metadata": {
    "collapsed": false,
    "pycharm": {
     "name": "#%%\n"
    }
   }
  },
  {
   "cell_type": "code",
   "execution_count": 96,
   "outputs": [
    {
     "name": "stdout",
     "output_type": "stream",
     "text": [
      "              precision    recall  f1-score   support\n",
      "\n",
      "         neg       1.00      1.00      1.00         3\n",
      "         neu       1.00      0.50      0.67         2\n",
      "         pos       0.67      1.00      0.80         2\n",
      "\n",
      "    accuracy                           0.86         7\n",
      "   macro avg       0.89      0.83      0.82         7\n",
      "weighted avg       0.90      0.86      0.85         7\n",
      "\n"
     ]
    }
   ],
   "source": [
    "print(classification_report(test_data['Confirmed Score'], test_data['comp_score']))"
   ],
   "metadata": {
    "collapsed": false,
    "pycharm": {
     "name": "#%%\n"
    }
   }
  },
  {
   "cell_type": "code",
   "execution_count": 96,
   "outputs": [],
   "source": [],
   "metadata": {
    "collapsed": false,
    "pycharm": {
     "name": "#%%\n"
    }
   }
  },
  {
   "cell_type": "markdown",
   "source": [
    "## Phase 2"
   ],
   "metadata": {
    "collapsed": false,
    "pycharm": {
     "name": "#%% md\n"
    }
   }
  },
  {
   "cell_type": "code",
   "execution_count": 97,
   "outputs": [],
   "source": [
    "phase2 = '/Users/anthonyknutson/Desktop/IT-797A/FINALPROJECT/READY/2020/185.25.51.173-20201102_en-US_CLEANED.json'"
   ],
   "metadata": {
    "collapsed": false,
    "pycharm": {
     "name": "#%%\n"
    }
   }
  },
  {
   "cell_type": "code",
   "execution_count": 98,
   "outputs": [],
   "source": [
    "data = pd.read_json(phase2) # read in the json files\n",
    "dfs = pd.DataFrame(data) # put it into a DataFrame"
   ],
   "metadata": {
    "collapsed": false,
    "pycharm": {
     "name": "#%%\n"
    }
   }
  },
  {
   "cell_type": "code",
   "execution_count": 99,
   "outputs": [],
   "source": [
    "dfs['body'] = dfs['body'].str.lower()"
   ],
   "metadata": {
    "collapsed": false,
    "pycharm": {
     "name": "#%%\n"
    }
   }
  },
  {
   "cell_type": "code",
   "execution_count": 100,
   "outputs": [
    {
     "data": {
      "text/plain": "0      hello procles for target{backslash}n{backslash...\n1      hello{backslash}n{backslash}pbot{backslash}nik...\n2                                                    yes\n3      hello. i am being contacted by a certain stern...\n4                                                 poiwet\n                             ...                        \n369    it's not clear what's wrong with the echo yet{...\n370                                    will become clear\n371                                                hello\n372    download: https://qaz.im/load/ie5kgb/9adnt4{ba...\n373                                             pass 123\nName: body, Length: 374, dtype: object"
     },
     "execution_count": 100,
     "metadata": {},
     "output_type": "execute_result"
    }
   ],
   "source": [
    "dfs['body']"
   ],
   "metadata": {
    "collapsed": false,
    "pycharm": {
     "name": "#%%\n"
    }
   }
  },
  {
   "cell_type": "code",
   "execution_count": 101,
   "outputs": [],
   "source": [
    "# Data Normalization\n",
    "dfs['body'] = dfs['body'].str.replace('http[s]?://(?:[a-zA-Z]|[0-9]|[$-_@.&+]|[!*\\(\\),]|(?:%[0-9a-fA-F][0-9a-fA-F]))+', ' ',regex=True) #remove URLs\n",
    "dfs['body'] = dfs['body'].str.replace(r\"[\\\"\\'\\|\\?\\=\\.\\@\\#\\*\\&\\,]\", '',regex=True) # remove special characters\n",
    "dfs['body'] = dfs['body'].str.replace('{backslash}',r'\\&', regex=True) # Remove backslash ASCII\n",
    "dfs['body'] = dfs['body'].str.replace(r'\\\\n',  ' ', regex=True) # remove new lines\n",
    "dfs['body'] = dfs['body'].str.replace(r'\\\\pbot',  ' ', regex=True) # remove bot stuff"
   ],
   "metadata": {
    "collapsed": false,
    "pycharm": {
     "name": "#%%\n"
    }
   }
  },
  {
   "cell_type": "code",
   "execution_count": 102,
   "outputs": [],
   "source": [
    "dfs['polarity_score'] = dfs['body'].apply(lambda body: sentiment.polarity_scores(body))"
   ],
   "metadata": {
    "collapsed": false,
    "pycharm": {
     "name": "#%%\n"
    }
   }
  },
  {
   "cell_type": "code",
   "execution_count": 103,
   "outputs": [],
   "source": [
    "dfs['compound'] = dfs['polarity_score'].apply(lambda d:d['compound'])"
   ],
   "metadata": {
    "collapsed": false,
    "pycharm": {
     "name": "#%%\n"
    }
   }
  },
  {
   "cell_type": "code",
   "execution_count": 104,
   "outputs": [],
   "source": [
    "dfs['comp_score'] = dfs['compound'].apply(lambda score: 'neu' if score==0 else('pos' if score >0 else 'neg'))"
   ],
   "metadata": {
    "collapsed": false,
    "pycharm": {
     "name": "#%%\n"
    }
   }
  },
  {
   "cell_type": "code",
   "execution_count": 105,
   "outputs": [
    {
     "data": {
      "text/plain": "neu    249\npos     80\nneg     45\nName: comp_score, dtype: int64"
     },
     "execution_count": 105,
     "metadata": {},
     "output_type": "execute_result"
    },
    {
     "data": {
      "text/plain": "<Figure size 432x288 with 1 Axes>",
      "image/png": "[encoded data removed]"
     },
     "metadata": {},
     "output_type": "display_data"
    }
   ],
   "source": [
    "dfs['comp_score'].value_counts().plot(kind='pie') # count total\n",
    "dfs['comp_score'].value_counts()"
   ],
   "metadata": {
    "collapsed": false,
    "pycharm": {
     "name": "#%%\n"
    }
   }
  },
  {
   "cell_type": "code",
   "execution_count": 105,
   "outputs": [],
   "source": [],
   "metadata": {
    "collapsed": false,
    "pycharm": {
     "name": "#%%\n"
    }
   }
  },
  {
   "cell_type": "markdown",
   "source": [
    "## Phase 3"
   ],
   "metadata": {
    "collapsed": false,
    "pycharm": {
     "name": "#%% md\n"
    }
   }
  },
  {
   "cell_type": "code",
   "execution_count": 91,
   "outputs": [],
   "source": [
    "path_to_json = '/Users/anthonyknutson/Desktop/IT-797A/FINALPROJECT/READY/2020/'\n",
    "json_files = [path_to_json + \"/\" + pos_json for pos_json in os.listdir(path_to_json) if pos_json.endswith('.json')]"
   ],
   "metadata": {
    "collapsed": false,
    "pycharm": {
     "name": "#%%\n"
    }
   }
  },
  {
   "cell_type": "code",
   "execution_count": 92,
   "outputs": [],
   "source": [
    "for file in json_files: # recurse over json_file for each file\n",
    "    with open(file) as myfile:\n",
    "        contents=myfile.read()\n",
    "        contents=re.sub(r\"Body\",\"body\",contents)\n",
    "        contents=re.sub(r\"body\",\"body\",contents)\n",
    "        with open(file,'w') as outfile:\n",
    "            outfile.write(contents)"
   ],
   "metadata": {
    "collapsed": false,
    "pycharm": {
     "name": "#%%\n"
    }
   }
  },
  {
   "cell_type": "code",
   "execution_count": 93,
   "outputs": [],
   "source": [
    "dfp = pd.DataFrame() # empty list to store the DataFrame\n",
    "for file in json_files:\n",
    "    data = pd.read_json(file) # read in the json files\n",
    "    df = pd.DataFrame(data) # put it into a DataFrame\n",
    "    dfp=pd.concat([df,dfp], ignore_index=True) # concat them all together"
   ],
   "metadata": {
    "collapsed": false,
    "pycharm": {
     "name": "#%%\n"
    }
   }
  },
  {
   "cell_type": "code",
   "execution_count": 94,
   "outputs": [],
   "source": [
    "dfp['body'] = dfp['body'].str.lower()"
   ],
   "metadata": {
    "collapsed": false,
    "pycharm": {
     "name": "#%%\n"
    }
   }
  },
  {
   "cell_type": "code",
   "execution_count": 110,
   "outputs": [
    {
     "data": {
      "text/plain": "0                                 hello\\&popper\n1           give me the new eheh then/reinstall\n2         flm-lt-ttipps2\\&nfioritto\\&n\\&nnpopup\n3                                    understood\n4                                         hello\n                          ...                  \n107958       remind me which dll is the problem\n107959                                     made\n107960                                     here\n107961                                         \n107962                                 pass 123\nName: body, Length: 107963, dtype: object"
     },
     "execution_count": 110,
     "metadata": {},
     "output_type": "execute_result"
    }
   ],
   "source": [
    "dfp['body']"
   ],
   "metadata": {
    "collapsed": false,
    "pycharm": {
     "name": "#%%\n"
    }
   }
  },
  {
   "cell_type": "code",
   "execution_count": 112,
   "outputs": [],
   "source": [
    "dfp.to_csv('phase3.csv',columns=['body'], index=False)"
   ],
   "metadata": {
    "collapsed": false,
    "pycharm": {
     "name": "#%%\n"
    }
   }
  },
  {
   "cell_type": "code",
   "execution_count": 114,
   "outputs": [
    {
     "data": {
      "text/plain": "                                    body\n0                          hello\\&popper\n1    give me the new eheh then/reinstall\n2  flm-lt-ttipps2\\&nfioritto\\&n\\&nnpopup\n3                             understood\n4                                  hello",
      "text/html": "<div>\n<style scoped>\n    .dataframe tbody tr th:only-of-type {\n        vertical-align: middle;\n    }\n\n    .dataframe tbody tr th {\n        vertical-align: top;\n    }\n\n    .dataframe thead th {\n        text-align: right;\n    }\n</style>\n<table border=\"1\" class=\"dataframe\">\n  <thead>\n    <tr style=\"text-align: right;\">\n      <th></th>\n      <th>body</th>\n    </tr>\n  </thead>\n  <tbody>\n    <tr>\n      <th>0</th>\n      <td>hello\\&amp;popper</td>\n    </tr>\n    <tr>\n      <th>1</th>\n      <td>give me the new eheh then/reinstall</td>\n    </tr>\n    <tr>\n      <th>2</th>\n      <td>flm-lt-ttipps2\\&amp;nfioritto\\&amp;n\\&amp;nnpopup</td>\n    </tr>\n    <tr>\n      <th>3</th>\n      <td>understood</td>\n    </tr>\n    <tr>\n      <th>4</th>\n      <td>hello</td>\n    </tr>\n  </tbody>\n</table>\n</div>"
     },
     "execution_count": 114,
     "metadata": {},
     "output_type": "execute_result"
    }
   ],
   "source": [
    "phase3 = pd.read_csv('phase3.csv')\n",
    "phase3.head()"
   ],
   "metadata": {
    "collapsed": false,
    "pycharm": {
     "name": "#%%\n"
    }
   }
  },
  {
   "cell_type": "code",
   "execution_count": 116,
   "outputs": [],
   "source": [
    "phase3['polarity_score'] = phase3['body'].apply(lambda body: sentiment.polarity_scores(str(body)))"
   ],
   "metadata": {
    "collapsed": false,
    "pycharm": {
     "name": "#%%\n"
    }
   }
  },
  {
   "cell_type": "code",
   "execution_count": 117,
   "outputs": [],
   "source": [
    "# Sentiment Analysis\n",
    "phase3['compound'] = phase3['polarity_score'].apply(lambda d: d['compound'])\n",
    "phase3['comp_score'] = phase3['compound'].apply(lambda score: 'neu' if score == 0 else ('pos' if score > 0 else 'neg'))"
   ],
   "metadata": {
    "collapsed": false,
    "pycharm": {
     "name": "#%%\n"
    }
   }
  },
  {
   "cell_type": "code",
   "execution_count": 119,
   "outputs": [
    {
     "data": {
      "text/plain": "neu    46836\npos    13953\nneg     9468\nName: comp_score, dtype: int64"
     },
     "execution_count": 119,
     "metadata": {},
     "output_type": "execute_result"
    },
    {
     "data": {
      "text/plain": "<Figure size 432x288 with 1 Axes>",
      "image/png": "[encoded data removed]"
     },
     "metadata": {},
     "output_type": "display_data"
    }
   ],
   "source": [
    "phase3['comp_score'].value_counts().plot(kind='pie') # count total\n",
    "phase3['comp_score'].value_counts()"
   ],
   "metadata": {
    "collapsed": false,
    "pycharm": {
     "name": "#%%\n"
    }
   }
  },
  {
   "cell_type": "code",
   "execution_count": 119,
   "outputs": [],
   "source": [],
   "metadata": {
    "collapsed": false,
    "pycharm": {
     "name": "#%%\n"
    }
   }
  },
  {
   "cell_type": "markdown",
   "source": [
    "## Phase 4"
   ],
   "metadata": {
    "collapsed": false,
    "pycharm": {
     "name": "#%% md\n"
    }
   }
  },
  {
   "cell_type": "markdown",
   "source": [
    "### 2021 Data"
   ],
   "metadata": {
    "collapsed": false,
    "pycharm": {
     "name": "#%% md\n"
    }
   }
  },
  {
   "cell_type": "code",
   "execution_count": 120,
   "outputs": [],
   "source": [
    "path_to_json = '/Users/anthonyknutson/Desktop/IT-797A/FINALPROJECT/READY/2021/'\n",
    "json_files = [path_to_json + \"/\" + pos_json for pos_json in os.listdir(path_to_json) if pos_json.endswith('.json')]"
   ],
   "metadata": {
    "collapsed": false,
    "pycharm": {
     "name": "#%%\n"
    }
   }
  },
  {
   "cell_type": "code",
   "execution_count": 121,
   "outputs": [],
   "source": [
    "for file in json_files:  # recurse over json_file for each file\n",
    "    with open(file) as myfile:\n",
    "        contents = myfile.read()\n",
    "        contents = re.sub(r\"Body\", \"body\", contents)\n",
    "        contents = re.sub(r\"body\", \"body\", contents)\n",
    "        with open(file, 'w') as outfile:\n",
    "            outfile.write(contents)"
   ],
   "metadata": {
    "collapsed": false,
    "pycharm": {
     "name": "#%%\n"
    }
   }
  },
  {
   "cell_type": "code",
   "execution_count": 122,
   "outputs": [],
   "source": [
    "dfp = pd.DataFrame()  # empty list to store the DataFrame\n",
    "for file in json_files:\n",
    "    data = pd.read_json(file)  # read in the json files\n",
    "    df = pd.DataFrame(data)  # put it into a DataFrame\n",
    "    dfp = pd.concat([df, dfp], ignore_index=True)  # concat them all together"
   ],
   "metadata": {
    "collapsed": false,
    "pycharm": {
     "name": "#%%\n"
    }
   }
  },
  {
   "cell_type": "code",
   "execution_count": 123,
   "outputs": [],
   "source": [
    "dfp['body'] = dfp['body'].str.lower()"
   ],
   "metadata": {
    "collapsed": false,
    "pycharm": {
     "name": "#%%\n"
    }
   }
  },
  {
   "cell_type": "code",
   "execution_count": 124,
   "outputs": [
    {
     "data": {
      "text/plain": "0        hello, look at the vntz, it doesn't work at al...\n1        do it as soon as possible, it's not possible t...\n2               stupid doesn't load beyond the stick input\n3                         something's not letting it load.\n4                         and i'm working on it right now.\n                               ...                        \n56567    prviet, bro. got the crypto report ready for 0...\n56568    leo project 8 crypts bild machine{backslash}n{...\n56569                                  idite nahui spameri\n56570                                  idite nahui spameri\n56571                                                    1\nName: body, Length: 56572, dtype: object"
     },
     "execution_count": 124,
     "metadata": {},
     "output_type": "execute_result"
    }
   ],
   "source": [
    "dfp['body']"
   ],
   "metadata": {
    "collapsed": false,
    "pycharm": {
     "name": "#%%\n"
    }
   }
  },
  {
   "cell_type": "code",
   "execution_count": 125,
   "outputs": [],
   "source": [
    "dfp['polarity_score'] = dfp['body'].apply(lambda body: sentiment.polarity_scores(str(body)))"
   ],
   "metadata": {
    "collapsed": false,
    "pycharm": {
     "name": "#%%\n"
    }
   }
  },
  {
   "cell_type": "code",
   "execution_count": 126,
   "outputs": [],
   "source": [
    "dfp['compound'] = dfp['polarity_score'].apply(lambda d: d['compound'])\n",
    "dfp['comp_score'] = dfp['compound'].apply(lambda score: 'neu' if score == 0 else ('pos' if score > 0 else 'neg'))"
   ],
   "metadata": {
    "collapsed": false,
    "pycharm": {
     "name": "#%%\n"
    }
   }
  },
  {
   "cell_type": "code",
   "execution_count": 128,
   "outputs": [
    {
     "data": {
      "text/plain": "neu    43904\npos     8061\nneg     4607\nName: comp_score, dtype: int64"
     },
     "execution_count": 128,
     "metadata": {},
     "output_type": "execute_result"
    },
    {
     "data": {
      "text/plain": "<Figure size 432x288 with 1 Axes>",
      "image/png": "[encoded data removed]"
     },
     "metadata": {},
     "output_type": "display_data"
    }
   ],
   "source": [
    "dfp['comp_score'].value_counts().plot(kind='pie') # count total\n",
    "dfp['comp_score'].value_counts()"
   ],
   "metadata": {
    "collapsed": false,
    "pycharm": {
     "name": "#%%\n"
    }
   }
  },
  {
   "cell_type": "markdown",
   "source": [
    "### 2022"
   ],
   "metadata": {
    "collapsed": false,
    "pycharm": {
     "name": "#%% md\n"
    }
   }
  },
  {
   "cell_type": "code",
   "execution_count": 130,
   "outputs": [],
   "source": [
    "path_to_json = '/Users/anthonyknutson/Desktop/IT-797A/FINALPROJECT/READY/2022/'\n",
    "json_files = [path_to_json + \"/\" + pos_json for pos_json in os.listdir(path_to_json) if pos_json.endswith('.json')]"
   ],
   "metadata": {
    "collapsed": false,
    "pycharm": {
     "name": "#%%\n"
    }
   }
  },
  {
   "cell_type": "code",
   "execution_count": 131,
   "outputs": [],
   "source": [
    "for file in json_files:  # recurse over json_file for each file\n",
    "    with open(file) as myfile:\n",
    "        contents = myfile.read()\n",
    "        contents = re.sub(r\"Body\", \"body\", contents)\n",
    "        contents = re.sub(r\"body\", \"body\", contents)\n",
    "        with open(file, 'w') as outfile:\n",
    "            outfile.write(contents)"
   ],
   "metadata": {
    "collapsed": false,
    "pycharm": {
     "name": "#%%\n"
    }
   }
  },
  {
   "cell_type": "code",
   "execution_count": 132,
   "outputs": [],
   "source": [
    "dfp = pd.DataFrame()  # empty list to store the DataFrame\n",
    "for file in json_files:\n",
    "    data = pd.read_json(file)  # read in the json files\n",
    "    df = pd.DataFrame(data)  # put it into a DataFrame\n",
    "    dfp = pd.concat([df, dfp], ignore_index=True)  # concat them all together"
   ],
   "metadata": {
    "collapsed": false,
    "pycharm": {
     "name": "#%%\n"
    }
   }
  },
  {
   "cell_type": "code",
   "execution_count": 133,
   "outputs": [
    {
     "data": {
      "text/plain": "0                  there's a direct link to the chat room\n1                                        and it has an id\n2                                      you mean the note?\n3                                              understood\n4       show up already solve all these problems with ...\n                              ...                        \n4206                                            excellent\n4207                                  get in touch please\n4208                                                hello\n4209                              set of 10 builds needed\n4210                                                  new\nName: body, Length: 4211, dtype: object"
     },
     "execution_count": 133,
     "metadata": {},
     "output_type": "execute_result"
    }
   ],
   "source": [
    "dfp['body'] = dfp['body'].str.lower()\n",
    "dfp['body']"
   ],
   "metadata": {
    "collapsed": false,
    "pycharm": {
     "name": "#%%\n"
    }
   }
  },
  {
   "cell_type": "code",
   "execution_count": 135,
   "outputs": [
    {
     "data": {
      "text/plain": "neu    3047\npos     746\nneg     418\nName: comp_score, dtype: int64"
     },
     "execution_count": 135,
     "metadata": {},
     "output_type": "execute_result"
    },
    {
     "data": {
      "text/plain": "<Figure size 432x288 with 1 Axes>",
      "image/png": "[encoded data removed]"
     },
     "metadata": {},
     "output_type": "display_data"
    }
   ],
   "source": [
    "dfp['polarity_score'] = dfp['body'].apply(lambda body: sentiment.polarity_scores(str(body)))\n",
    "dfp['compound'] = dfp['polarity_score'].apply(lambda d: d['compound'])\n",
    "dfp['comp_score'] = dfp['compound'].apply(lambda score: 'neu' if score == 0 else ('pos' if score > 0 else 'neg'))\n",
    "\n",
    "dfp['comp_score'].value_counts().plot(kind='pie')  # count total\n",
    "dfp['comp_score'].value_counts()"
   ],
   "metadata": {
    "collapsed": false,
    "pycharm": {
     "name": "#%%\n"
    }
   }
  },
  {
   "cell_type": "code",
   "execution_count": null,
   "outputs": [],
   "source": [],
   "metadata": {
    "collapsed": false,
    "pycharm": {
     "name": "#%%\n"
    }
   }
  }
 ],
 "metadata": {
  "kernelspec": {
   "display_name": "Python 3",
   "language": "python",
   "name": "python3"
  },
  "language_info": {
   "codemirror_mode": {
    "name": "ipython",
    "version": 2
   },
   "file_extension": ".py",
   "mimetype": "text/x-python",
   "name": "python",
   "nbconvert_exporter": "python",
   "pygments_lexer": "ipython2",
   "version": "2.7.6"
  }
 },
 "nbformat": 4,
 "nbformat_minor": 0
}